{
 "cells": [
  {
   "cell_type": "code",
   "execution_count": 1,
   "metadata": {
    "collapsed": false
   },
   "outputs": [
    {
     "name": "stdout",
     "output_type": "stream",
     "text": [
      "/home/dhankar/anaconda2/envs/gisenv/bin/python\n",
      "3.4.5 |Continuum Analytics, Inc.| (default, Jul  2 2016, 17:47:47) \n",
      "[GCC 4.4.7 20120313 (Red Hat 4.4.7-1)]\n",
      "sys.version_info(major=3, minor=4, micro=5, releaselevel='final', serial=0)\n"
     ]
    }
   ],
   "source": [
    "import sys\n",
    "print(sys.executable)\n",
    "print(sys.version)\n",
    "print(sys.version_info)"
   ]
  },
  {
   "cell_type": "code",
   "execution_count": 1,
   "metadata": {
    "collapsed": true
   },
   "outputs": [],
   "source": [
    "import pysal as ps\n",
    "#import fiona\n",
    "import numpy as np\n",
    "import pandas as pd\n",
    "import geopandas as gpd\n"
   ]
  },
  {
   "cell_type": "code",
   "execution_count": 4,
   "metadata": {
    "collapsed": false
   },
   "outputs": [
    {
     "name": "stdout",
     "output_type": "stream",
     "text": [
      "/home/dhankar/Desktop/Geo_1\r\n"
     ]
    }
   ],
   "source": [
    "!pwd "
   ]
  },
  {
   "cell_type": "code",
   "execution_count": 5,
   "metadata": {
    "collapsed": false
   },
   "outputs": [
    {
     "data": {
      "text/plain": [
       "['nyc_bikes',\n",
       " '10740',\n",
       " 'south',\n",
       " 'us_income',\n",
       " 'newHaven',\n",
       " 'Polygon',\n",
       " 'arcgis',\n",
       " 'taz',\n",
       " 'networks',\n",
       " 'londonhp',\n",
       " 'columbus',\n",
       " 'snow_maps',\n",
       " 'street_net_pts',\n",
       " 'calemp',\n",
       " 'sacramento2',\n",
       " 'georgia',\n",
       " 'stl',\n",
       " 'burkitt',\n",
       " 'geodanet',\n",
       " 'Point',\n",
       " 'Polygon_Holes',\n",
       " 'wmat',\n",
       " 'juvenile',\n",
       " 'nat',\n",
       " 'sids2',\n",
       " 'chicago',\n",
       " 'Line',\n",
       " 'book',\n",
       " 'baltim',\n",
       " 'mexico',\n",
       " 'clearwater',\n",
       " 'tokyo',\n",
       " 'desmith',\n",
       " 'virginia']"
      ]
     },
     "execution_count": 5,
     "metadata": {},
     "output_type": "execute_result"
    }
   ],
   "source": [
    "ps.examples.available()"
   ]
  },
  {
   "cell_type": "code",
   "execution_count": 6,
   "metadata": {
    "collapsed": false
   },
   "outputs": [
    {
     "data": {
      "text/plain": [
       "{'description': None, 'explanation': None, 'name': 'nyc_bikes'}"
      ]
     },
     "execution_count": 6,
     "metadata": {},
     "output_type": "execute_result"
    }
   ],
   "source": [
    "ps.examples.explain('nyc_bikes')"
   ]
  },
  {
   "cell_type": "code",
   "execution_count": 7,
   "metadata": {
    "collapsed": false
   },
   "outputs": [
    {
     "data": {
      "text/plain": [
       "{'description': None, 'explanation': None, 'name': 'tokyo'}"
      ]
     },
     "execution_count": 7,
     "metadata": {},
     "output_type": "execute_result"
    }
   ],
   "source": [
    "ps.examples.explain('tokyo')"
   ]
  },
  {
   "cell_type": "code",
   "execution_count": 8,
   "metadata": {
    "collapsed": false
   },
   "outputs": [
    {
     "data": {
      "text/plain": [
       "{'description': 'Nominal per capita income for the lower 48 US states 1929-2009',\n",
       " 'explanation': ['* states48.gal: queen contiguity weights in GAL format.',\n",
       "  '* us48.dbf: attribute data. (k=8)',\n",
       "  '* us48.shp: Polygon shapefile. (n=48)',\n",
       "  '* us48.shx: spatial index.',\n",
       "  '* usjoin.csv: 48 US states nominal per capita income time series 1929-2009.'],\n",
       " 'name': 'us_income'}"
      ]
     },
     "execution_count": 8,
     "metadata": {},
     "output_type": "execute_result"
    }
   ],
   "source": [
    "ps.examples.explain('us_income')"
   ]
  },
  {
   "cell_type": "code",
   "execution_count": 10,
   "metadata": {
    "collapsed": false
   },
   "outputs": [
    {
     "name": "stdout",
     "output_type": "stream",
     "text": [
      "<module 'pysal.examples' from '/home/dhankar/anaconda2/envs/gisenv/lib/python3.4/site-packages/pysal/examples/__init__.py'>\n",
      "                                                                                                                                                                                    \n",
      "<function get_path at 0x7f5244bd0a60>\n"
     ]
    }
   ],
   "source": [
    "print(ps.examples)\n",
    "#\n",
    "print(\"  \"*90)\n",
    "#\n",
    "print(ps.examples.get_path)"
   ]
  },
  {
   "cell_type": "code",
   "execution_count": 11,
   "metadata": {
    "collapsed": true
   },
   "outputs": [],
   "source": [
    "!cd /home/dhankar/anaconda2/envs/gisenv/lib/python3.4/site-packages/pysal/examples"
   ]
  },
  {
   "cell_type": "code",
   "execution_count": 12,
   "metadata": {
    "collapsed": false
   },
   "outputs": [
    {
     "name": "stdout",
     "output_type": "stream",
     "text": [
      "/home/dhankar/Desktop/Geo_1\r\n"
     ]
    }
   ],
   "source": [
    "!pwd "
   ]
  },
  {
   "cell_type": "code",
   "execution_count": null,
   "metadata": {
    "collapsed": true
   },
   "outputs": [],
   "source": [
    "\"\"\"\n",
    "\n",
    "(gisenv) dhankar@dhankar-VPCEB44EN:~/Desktop/Geo_1$ \n",
    "(gisenv) dhankar@dhankar-VPCEB44EN:~/Desktop/Geo_1$ pwd\n",
    "/home/dhankar/Desktop/Geo_1\n",
    "(gisenv) dhankar@dhankar-VPCEB44EN:~/Desktop/Geo_1$ \n",
    "(gisenv) dhankar@dhankar-VPCEB44EN:~/Desktop/Geo_1$ cd /home/dhankar/anaconda2/envs/gisenv/lib/python3.4/site-packages/pysal/examples\n",
    "(gisenv) dhankar@dhankar-VPCEB44EN:~/anaconda2/envs/gisenv/lib/python3.4/site-packages/pysal/examples$ ls\n",
    "10740   burkitt     columbus      georgia      londonhp  newHaven   Polygon_Holes  sids2      street_net_pts    tokyo\n",
    "arcgis  calemp      desmith       __init__.py  mexico    nyc_bikes  __pycache__    snow_maps  taz               us_income\n",
    "baltim  chicago     examples.txt  juvenile     nat       Point      README.txt     south      test_examples.py  virginia\n",
    "book    clearwater  geodanet      Line         networks  Polygon    sacramento2    stl        tmpIvIYa5.gwt     wmat\n",
    "(gisenv) dhankar@dhankar-VPCEB44EN:~/anaconda2/envs/gisenv/lib/python3.4/site-packages/pysal/examples$ \n",
    "(gisenv) dhankar@dhankar-VPCEB44EN:~/anaconda2/envs/gisenv/lib/python3.4/site-packages/pysal/examples$ cd us_income\n",
    "(gisenv) dhankar@dhankar-VPCEB44EN:~/anaconda2/envs/gisenv/lib/python3.4/site-packages/pysal/examples/us_income$ ls\n",
    "README.md  spi_download.csv  states48.gal  us48.dbf  us48.shp  us48.shx  usjoin.csv\n",
    "(gisenv) dhankar@dhankar-VPCEB44EN:~/anaconda2/envs/gisenv/lib/python3.4/site-packages/pysal/examples/us_income$ \n",
    "(gisenv) dhankar@dhankar-VPCEB44EN:~/anaconda2/envs/gisenv/lib/python3.4/site-packages/pysal/examples/us_income$ pwd\n",
    "/home/dhankar/anaconda2/envs/gisenv/lib/python3.4/site-packages/pysal/examples/us_income\n",
    "(gisenv) dhankar@dhankar-VPCEB44EN:~/anaconda2/envs/gisenv/lib/python3.4/site-packages/pysal/examples/us_income$ \n",
    "(gisenv) dhankar@dhankar-VPCEB44EN:~/anaconda2/envs/gisenv/lib/python3.4/site-packages/pysal/examples/us_income$ \n",
    "\n",
    "\n",
    "\"\"\""
   ]
  },
  {
   "cell_type": "code",
   "execution_count": 3,
   "metadata": {
    "collapsed": false
   },
   "outputs": [
    {
     "name": "stdout",
     "output_type": "stream",
     "text": [
      "CSV Local File Path___  /home/dhankar/anaconda2/envs/gisenv/lib/python3.4/site-packages/pysal/examples/us_income/usjoin.csv\n"
     ]
    }
   ],
   "source": [
    "csv_path = ps.examples.get_path('usjoin.csv')\n",
    "print(\"CSV Local File Path___ \",csv_path)"
   ]
  },
  {
   "cell_type": "code",
   "execution_count": 4,
   "metadata": {
    "collapsed": false
   },
   "outputs": [
    {
     "name": "stdout",
     "output_type": "stream",
     "text": [
      "                    \n",
      "Name\n",
      "                    \n",
      "1932\n",
      "                    \n",
      "['Name', 'STATE_FIPS', '1929', '1930', '1931', '1932', '1933', '1934', '1935', '1936', '1937', '1938', '1939', '1940', '1941', '1942', '1943', '1944', '1945', '1946', '1947', '1948', '1949', '1950', '1951', '1952', '1953', '1954', '1955', '1956', '1957', '1958', '1959', '1960', '1961', '1962', '1963', '1964', '1965', '1966', '1967', '1968', '1969', '1970', '1971', '1972', '1973', '1974', '1975', '1976', '1977', '1978', '1979', '1980', '1981', '1982', '1983', '1984', '1985', '1986', '1987', '1988', '1989', '1990', '1991', '1992', '1993', '1994', '1995', '1996', '1997', '1998', '1999', '2000', '2001', '2002', '2003', '2004', '2005', '2006', '2007', '2008', '2009']\n",
      "                    \n"
     ]
    }
   ],
   "source": [
    "f = ps.open(csv_path)\n",
    "#\n",
    "print(\"  \"*10)\n",
    "#\n",
    "print(f.header[0]) ## Column 1 of CVS File \n",
    "#\n",
    "print(\"  \"*10)\n",
    "#\n",
    "print(f.header[5])\n",
    "#\n",
    "print(\"  \"*10)\n",
    "#\n",
    "print(f.header)\n",
    "#\n",
    "print(\"  \"*10)\n",
    "\n",
    "#print(type(f)) ## <class 'pysal.core.IOHandlers.csvWrapper.csvWrapper'>"
   ]
  },
  {
   "cell_type": "code",
   "execution_count": 5,
   "metadata": {
    "collapsed": false
   },
   "outputs": [
    {
     "name": "stdout",
     "output_type": "stream",
     "text": [
      "[32274, 32077, 31493, 40902, 40093, 52736, 40135, 36565, 33086, 30987, 40933, 33174, 35983, 37036, 31250, 35151, 35268, 47159, 49590, 34280, 40920, 29318, 35106, 32699, 37057, 38009, 41882, 48123, 32197, 46844, 33564, 38672, 35018, 33708, 35210, 38827, 41283, 30835, 36499, 33512, 35674, 30107, 36752, 43211, 40619, 31843, 35676, 42504]\n"
     ]
    }
   ],
   "source": [
    "year_09 = f.by_col('2009')\n",
    "print(year_09)\n",
    "\n"
   ]
  },
  {
   "cell_type": "code",
   "execution_count": 6,
   "metadata": {
    "collapsed": false
   },
   "outputs": [
    {
     "name": "stdout",
     "output_type": "stream",
     "text": [
      "path_shp_file____ /media/dhankar/Dhankar_1/a1_18/a1____GeoSpatialANAL/GIS_DATA/ShapeFiles/tl_2010_02_place10.shp\n",
      "<class 'pysal.core.IOHandlers.pyShpIO.PurePyShpWrapper'>\n"
     ]
    }
   ],
   "source": [
    "## What are .shp -SHAPE Files ? --- https://www.esri.com/library/whitepapers/pdfs/shapefile.pdf\n",
    "## PySAL reading -SHAPE Files --- \n",
    "## \n",
    "\n",
    "path_shp_file = \"/media/dhankar/Dhankar_1/a1_18/a1____GeoSpatialANAL/GIS_DATA/ShapeFiles/tl_2010_02_place10.shp\"\n",
    "\n",
    "print(\"path_shp_file____\",path_shp_file)\n",
    "#\n",
    "shp_f = ps.open(path_shp_file)\n",
    "#\n",
    "print(type(shp_f))\n",
    "#\n",
    "# <class 'pysal.core.IOHandlers.pyShpIO.PurePyShpWrapper'>"
   ]
  },
  {
   "cell_type": "code",
   "execution_count": 7,
   "metadata": {
    "collapsed": false
   },
   "outputs": [
    {
     "name": "stdout",
     "output_type": "stream",
     "text": [
      "{'Unused4': 0, 'File Code': 9994, 'Unused1': 0, 'BBOX Zmax': 0.0, 'BBOX Mmax': 0.0, 'BBOX Ymin': 51.800809, 'Unused2': 0, 'Unused3': 0, 'BBOX Zmin': 0.0, 'BBOX Xmax': 173.42992099999998, 'File Length': 2069820, 'BBOX Xmin': -176.713098, 'BBOX Mmin': 0.0, 'Version': 1000, 'Shape Type': 5, 'BBOX Ymax': 71.340257, 'Unused0': 0}\n",
      "                    \n"
     ]
    },
    {
     "ename": "KeyError",
     "evalue": "0",
     "output_type": "error",
     "traceback": [
      "\u001b[0;31m---------------------------------------------------------------------------\u001b[0m",
      "\u001b[0;31mKeyError\u001b[0m                                  Traceback (most recent call last)",
      "\u001b[0;32m<ipython-input-7-4baa0654dba2>\u001b[0m in \u001b[0;36m<module>\u001b[0;34m()\u001b[0m\n\u001b[1;32m      5\u001b[0m \u001b[0mprint\u001b[0m\u001b[0;34m(\u001b[0m\u001b[0;34m\"  \"\u001b[0m\u001b[0;34m*\u001b[0m\u001b[0;36m10\u001b[0m\u001b[0;34m)\u001b[0m\u001b[0;34m\u001b[0m\u001b[0m\n\u001b[1;32m      6\u001b[0m \u001b[0;31m#\u001b[0m\u001b[0;34m\u001b[0m\u001b[0;34m\u001b[0m\u001b[0m\n\u001b[0;32m----> 7\u001b[0;31m \u001b[0mprint\u001b[0m\u001b[0;34m(\u001b[0m\u001b[0mshp_f\u001b[0m\u001b[0;34m.\u001b[0m\u001b[0mheader\u001b[0m\u001b[0;34m[\u001b[0m\u001b[0;36m0\u001b[0m\u001b[0;34m]\u001b[0m\u001b[0;34m)\u001b[0m  \u001b[0;31m# Cant Index --PurePyShpWrapper --  like the - csvWrapper -- File Object above.\u001b[0m\u001b[0;34m\u001b[0m\u001b[0m\n\u001b[0m\u001b[1;32m      8\u001b[0m \u001b[0;31m#\u001b[0m\u001b[0;34m\u001b[0m\u001b[0;34m\u001b[0m\u001b[0m\n\u001b[1;32m      9\u001b[0m \u001b[0mprint\u001b[0m\u001b[0;34m(\u001b[0m\u001b[0;34m\"  \"\u001b[0m\u001b[0;34m*\u001b[0m\u001b[0;36m10\u001b[0m\u001b[0;34m)\u001b[0m\u001b[0;34m\u001b[0m\u001b[0m\n",
      "\u001b[0;31mKeyError\u001b[0m: 0"
     ]
    }
   ],
   "source": [
    "# Exploring SHAPE File\n",
    "\n",
    "print(shp_f.header)\n",
    "#\n",
    "print(\"  \"*10)\n",
    "#\n",
    "print(shp_f.header[0])  # Cant Index --PurePyShpWrapper --  like the - csvWrapper -- File Object above. \n",
    "#\n",
    "print(\"  \"*10)\n",
    "\n",
    "\n"
   ]
  },
  {
   "cell_type": "code",
   "execution_count": 33,
   "metadata": {
    "collapsed": false
   },
   "outputs": [
    {
     "data": {
      "text/plain": [
       "[-176.713098, 51.800809, 173.42992099999998, 71.340257]"
      ]
     },
     "execution_count": 33,
     "metadata": {},
     "output_type": "execute_result"
    }
   ],
   "source": [
    "# The Bounding Boxes \n",
    "shp_f.bbox"
   ]
  },
  {
   "cell_type": "code",
   "execution_count": 37,
   "metadata": {
    "collapsed": false
   },
   "outputs": [
    {
     "name": "stdout",
     "output_type": "stream",
     "text": [
      "355\n"
     ]
    }
   ],
   "source": [
    "# Source -- http://nbviewer.jupyter.org/github/pysal/notebooks/blob/master/notebooks/PySAL_io.ipynb\n",
    "#\n",
    "ploygons_list =[]\n",
    "#\n",
    "for poly in shp_f:\n",
    "#    print(\"Iterating over polygon: \", poly.id) \n",
    "     ## OK Prints ALL POLYGON ID's\n",
    "    ploygons_list.append(poly)\n",
    "print(len(ploygons_list))\n",
    "\n"
   ]
  },
  {
   "cell_type": "code",
   "execution_count": 41,
   "metadata": {
    "collapsed": false
   },
   "outputs": [
    {
     "name": "stdout",
     "output_type": "stream",
     "text": [
      "<class 'pysal.cg.shapes.Polygon'>\n",
      "poly1.area_____ 0.01069828264749495\n",
      "poly1.centroid_____ (-160.50972007241012, 55.316898375212034)\n",
      "poly1.holes_____ [[]]\n",
      "poly1.perimeter_____ 0.49487112845616443\n"
     ]
    }
   ],
   "source": [
    "# Polygon - ONE of SHAPE File \n",
    "poly1 = shp_f[0]\n",
    "print(type(poly1))\n",
    "#\n",
    "print(\"poly1.area_____\",poly1.area)\n",
    "#\n",
    "print(\"poly1.centroid_____\",poly1.centroid)\n",
    "#\n",
    "print(\"poly1.holes_____\",poly1.holes)\n",
    "#\n",
    "print(\"poly1.perimeter_____\",poly1.perimeter)\n",
    "#"
   ]
  },
  {
   "cell_type": "code",
   "execution_count": 43,
   "metadata": {
    "collapsed": false
   },
   "outputs": [
    {
     "name": "stdout",
     "output_type": "stream",
     "text": [
      "<class 'pysal.core.IOHandlers.pyShpIO.PurePyShpWrapper'>\n"
     ]
    }
   ],
   "source": [
    "# Writing Own SHAPE Files -- Creating a COPY \n",
    "#\n",
    "# Create a NEW DUMMY SHAPE File on local DIR \n",
    "shp_f1 = ps.open('shp_test.shp', 'w')\n",
    "#\n",
    "# Copy the Headers\n",
    "shp_f1.header = shp_f.header\n",
    "#\n",
    "# Write ONE Polygon to New Shape File \n",
    "#\n",
    "shp_f1.write(poly1)\n",
    "shp_f1.close()\n",
    "#\n",
    "print(type(shp_f1))\n",
    "\n"
   ]
  },
  {
   "cell_type": "code",
   "execution_count": 8,
   "metadata": {
    "collapsed": false
   },
   "outputs": [
    {
     "name": "stdout",
     "output_type": "stream",
     "text": [
      "<pysal.core.IOHandlers.pyShpIO.PurePyShpWrapper object at 0x7ffb8ce817b8>\n"
     ]
    },
    {
     "ename": "AttributeError",
     "evalue": "'NoneType' object has no attribute 'get_shape'",
     "output_type": "error",
     "traceback": [
      "\u001b[0;31m---------------------------------------------------------------------------\u001b[0m",
      "\u001b[0;31mAttributeError\u001b[0m                            Traceback (most recent call last)",
      "\u001b[0;32m<ipython-input-8-dc7b3b81ed54>\u001b[0m in \u001b[0;36m<module>\u001b[0;34m()\u001b[0m\n\u001b[1;32m      6\u001b[0m \u001b[0;34m\u001b[0m\u001b[0m\n\u001b[1;32m      7\u001b[0m \u001b[0;31m# Polygon - ONE of NEW SHAPE File == shp_f1\u001b[0m\u001b[0;34m\u001b[0m\u001b[0;34m\u001b[0m\u001b[0m\n\u001b[0;32m----> 8\u001b[0;31m \u001b[0mpoly_1_1\u001b[0m \u001b[0;34m=\u001b[0m \u001b[0mshp_f1\u001b[0m\u001b[0;34m[\u001b[0m\u001b[0;36m0\u001b[0m\u001b[0;34m]\u001b[0m\u001b[0;34m\u001b[0m\u001b[0m\n\u001b[0m\u001b[1;32m      9\u001b[0m \u001b[0mprint\u001b[0m\u001b[0;34m(\u001b[0m\u001b[0mtype\u001b[0m\u001b[0;34m(\u001b[0m\u001b[0mpoly_1_1\u001b[0m\u001b[0;34m)\u001b[0m\u001b[0;34m)\u001b[0m\u001b[0;34m\u001b[0m\u001b[0m\n\u001b[1;32m     10\u001b[0m \u001b[0;31m#\u001b[0m\u001b[0;34m\u001b[0m\u001b[0;34m\u001b[0m\u001b[0m\n",
      "\u001b[0;32m~/anaconda2/envs/gisenv/lib/python3.4/site-packages/pysal/core/FileIO.py\u001b[0m in \u001b[0;36m__getitem__\u001b[0;34m(self, key)\u001b[0m\n\u001b[1;32m    160\u001b[0m \u001b[0;34m\u001b[0m\u001b[0m\n\u001b[1;32m    161\u001b[0m     \u001b[0;32mdef\u001b[0m \u001b[0m__getitem__\u001b[0m\u001b[0;34m(\u001b[0m\u001b[0mself\u001b[0m\u001b[0;34m,\u001b[0m \u001b[0mkey\u001b[0m\u001b[0;34m)\u001b[0m\u001b[0;34m:\u001b[0m\u001b[0;34m\u001b[0m\u001b[0m\n\u001b[0;32m--> 162\u001b[0;31m         \u001b[0;32mreturn\u001b[0m \u001b[0mself\u001b[0m\u001b[0;34m.\u001b[0m\u001b[0mby_row\u001b[0m\u001b[0;34m.\u001b[0m\u001b[0m__getitem__\u001b[0m\u001b[0;34m(\u001b[0m\u001b[0mkey\u001b[0m\u001b[0;34m)\u001b[0m\u001b[0;34m\u001b[0m\u001b[0m\n\u001b[0m\u001b[1;32m    163\u001b[0m \u001b[0;34m\u001b[0m\u001b[0m\n\u001b[1;32m    164\u001b[0m     \u001b[0;34m@\u001b[0m\u001b[0mproperty\u001b[0m\u001b[0;34m\u001b[0m\u001b[0m\n",
      "\u001b[0;32m~/anaconda2/envs/gisenv/lib/python3.4/site-packages/pysal/core/FileIO.py\u001b[0m in \u001b[0;36m__getitem__\u001b[0;34m(self, key)\u001b[0m\n\u001b[1;32m    143\u001b[0m                 \u001b[0;32mreturn\u001b[0m \u001b[0mself\u001b[0m\u001b[0;34m.\u001b[0m\u001b[0mp\u001b[0m\u001b[0;34m.\u001b[0m\u001b[0mget\u001b[0m\u001b[0;34m(\u001b[0m\u001b[0mself\u001b[0m\u001b[0;34m.\u001b[0m\u001b[0mp\u001b[0m\u001b[0;34m.\u001b[0m\u001b[0mids\u001b[0m\u001b[0;34m[\u001b[0m\u001b[0mkey\u001b[0m\u001b[0;34m]\u001b[0m\u001b[0;34m)\u001b[0m\u001b[0;34m\u001b[0m\u001b[0m\n\u001b[1;32m    144\u001b[0m             \u001b[0;32melse\u001b[0m\u001b[0;34m:\u001b[0m\u001b[0;34m\u001b[0m\u001b[0m\n\u001b[0;32m--> 145\u001b[0;31m                 \u001b[0;32mreturn\u001b[0m \u001b[0mself\u001b[0m\u001b[0;34m.\u001b[0m\u001b[0mp\u001b[0m\u001b[0;34m.\u001b[0m\u001b[0mget\u001b[0m\u001b[0;34m(\u001b[0m\u001b[0mkey\u001b[0m\u001b[0;34m)\u001b[0m\u001b[0;34m\u001b[0m\u001b[0m\n\u001b[0m\u001b[1;32m    146\u001b[0m         \u001b[0m__call__\u001b[0m \u001b[0;34m=\u001b[0m \u001b[0m__getitem__\u001b[0m\u001b[0;34m\u001b[0m\u001b[0m\n\u001b[1;32m    147\u001b[0m \u001b[0;34m\u001b[0m\u001b[0m\n",
      "\u001b[0;32m~/anaconda2/envs/gisenv/lib/python3.4/site-packages/pysal/core/FileIO.py\u001b[0m in \u001b[0;36mget\u001b[0;34m(self, n)\u001b[0m\n\u001b[1;32m    267\u001b[0m         \u001b[0mprevPos\u001b[0m \u001b[0;34m=\u001b[0m \u001b[0mself\u001b[0m\u001b[0;34m.\u001b[0m\u001b[0mtell\u001b[0m\u001b[0;34m(\u001b[0m\u001b[0;34m)\u001b[0m\u001b[0;34m\u001b[0m\u001b[0m\n\u001b[1;32m    268\u001b[0m         \u001b[0mself\u001b[0m\u001b[0;34m.\u001b[0m\u001b[0mseek\u001b[0m\u001b[0;34m(\u001b[0m\u001b[0mn\u001b[0m\u001b[0;34m)\u001b[0m\u001b[0;34m\u001b[0m\u001b[0m\n\u001b[0;32m--> 269\u001b[0;31m         \u001b[0mobj\u001b[0m \u001b[0;34m=\u001b[0m \u001b[0mself\u001b[0m\u001b[0;34m.\u001b[0m\u001b[0m__read\u001b[0m\u001b[0;34m(\u001b[0m\u001b[0;34m)\u001b[0m\u001b[0;34m\u001b[0m\u001b[0m\n\u001b[0m\u001b[1;32m    270\u001b[0m         \u001b[0mself\u001b[0m\u001b[0;34m.\u001b[0m\u001b[0mseek\u001b[0m\u001b[0;34m(\u001b[0m\u001b[0mprevPos\u001b[0m\u001b[0;34m)\u001b[0m\u001b[0;34m\u001b[0m\u001b[0m\n\u001b[1;32m    271\u001b[0m         \u001b[0;32mreturn\u001b[0m \u001b[0mobj\u001b[0m\u001b[0;34m\u001b[0m\u001b[0m\n",
      "\u001b[0;32m~/anaconda2/envs/gisenv/lib/python3.4/site-packages/pysal/core/FileIO.py\u001b[0m in \u001b[0;36m__read\u001b[0;34m(self)\u001b[0m\n\u001b[1;32m    310\u001b[0m     \u001b[0;32mdef\u001b[0m \u001b[0m__read\u001b[0m\u001b[0;34m(\u001b[0m\u001b[0mself\u001b[0m\u001b[0;34m)\u001b[0m\u001b[0;34m:\u001b[0m\u001b[0;34m\u001b[0m\u001b[0m\n\u001b[1;32m    311\u001b[0m         \u001b[0;34m\"\"\" Gets one row from the file handler, and if necessary casts it's objects \"\"\"\u001b[0m\u001b[0;34m\u001b[0m\u001b[0m\n\u001b[0;32m--> 312\u001b[0;31m         \u001b[0mrow\u001b[0m \u001b[0;34m=\u001b[0m \u001b[0mself\u001b[0m\u001b[0;34m.\u001b[0m\u001b[0m_read\u001b[0m\u001b[0;34m(\u001b[0m\u001b[0;34m)\u001b[0m\u001b[0;34m\u001b[0m\u001b[0m\n\u001b[0m\u001b[1;32m    313\u001b[0m         \u001b[0;32mif\u001b[0m \u001b[0mrow\u001b[0m \u001b[0;32mis\u001b[0m \u001b[0;32mNone\u001b[0m\u001b[0;34m:\u001b[0m\u001b[0;34m\u001b[0m\u001b[0m\n\u001b[1;32m    314\u001b[0m             \u001b[0;32mraise\u001b[0m \u001b[0mStopIteration\u001b[0m\u001b[0;34m\u001b[0m\u001b[0m\n",
      "\u001b[0;32m~/anaconda2/envs/gisenv/lib/python3.4/site-packages/pysal/core/IOHandlers/pyShpIO.py\u001b[0m in \u001b[0;36m_read\u001b[0;34m(self)\u001b[0m\n\u001b[1;32m    140\u001b[0m     \u001b[0;32mdef\u001b[0m \u001b[0m_read\u001b[0m\u001b[0;34m(\u001b[0m\u001b[0mself\u001b[0m\u001b[0;34m)\u001b[0m\u001b[0;34m:\u001b[0m\u001b[0;34m\u001b[0m\u001b[0m\n\u001b[1;32m    141\u001b[0m         \u001b[0;32mtry\u001b[0m\u001b[0;34m:\u001b[0m\u001b[0;34m\u001b[0m\u001b[0m\n\u001b[0;32m--> 142\u001b[0;31m             \u001b[0mrec\u001b[0m \u001b[0;34m=\u001b[0m \u001b[0mself\u001b[0m\u001b[0;34m.\u001b[0m\u001b[0mdataObj\u001b[0m\u001b[0;34m.\u001b[0m\u001b[0mget_shape\u001b[0m\u001b[0;34m(\u001b[0m\u001b[0mself\u001b[0m\u001b[0;34m.\u001b[0m\u001b[0mpos\u001b[0m\u001b[0;34m)\u001b[0m\u001b[0;34m\u001b[0m\u001b[0m\n\u001b[0m\u001b[1;32m    143\u001b[0m         \u001b[0;32mexcept\u001b[0m \u001b[0mIndexError\u001b[0m\u001b[0;34m:\u001b[0m\u001b[0;34m\u001b[0m\u001b[0m\n\u001b[1;32m    144\u001b[0m             \u001b[0;32mreturn\u001b[0m \u001b[0;32mNone\u001b[0m\u001b[0;34m\u001b[0m\u001b[0m\n",
      "\u001b[0;31mAttributeError\u001b[0m: 'NoneType' object has no attribute 'get_shape'"
     ]
    }
   ],
   "source": [
    "shp_f1 = ps.open('/home/dhankar/Desktop/Geo_1/shp_test.shp', 'w')\n",
    "print(shp_f1)\n",
    "\n",
    "## WIP --- Check Below ----\n",
    "\n",
    "\n",
    "# Polygon - ONE of NEW SHAPE File == shp_f1\n",
    "poly_1_1 = shp_f1[0]\n",
    "print(type(poly_1_1))\n",
    "#\n",
    "print(\"poly1.area_____\",poly_1_1.area)\n",
    "#\n",
    "print(\"poly1.centroid_____\",poly_1_1.centroid)\n",
    "#\n",
    "print(\"poly1.holes_____\",poly_1_1.holes)\n",
    "#\n",
    "print(\"poly1.perimeter_____\",poly1.perimeter)\n",
    "#"
   ]
  },
  {
   "cell_type": "markdown",
   "metadata": {
    "collapsed": true
   },
   "source": [
    "# DBF Files \n",
    "## The dBase - dbf Files Wiki --- https://en.wikipedia.org/wiki/DBase\n",
    "\n"
   ]
  },
  {
   "cell_type": "code",
   "execution_count": 9,
   "metadata": {
    "collapsed": false
   },
   "outputs": [
    {
     "name": "stdout",
     "output_type": "stream",
     "text": [
      ".dbf Local File Path___  /home/dhankar/anaconda2/envs/gisenv/lib/python3.4/site-packages/pysal/examples/us_income/us48.dbf\n"
     ]
    }
   ],
   "source": [
    "dbf_path = ps.examples.get_path('us48.dbf')\n",
    "print(\".dbf Local File Path___ \",dbf_path)"
   ]
  },
  {
   "cell_type": "code",
   "execution_count": 16,
   "metadata": {
    "collapsed": false
   },
   "outputs": [
    {
     "name": "stdout",
     "output_type": "stream",
     "text": [
      "<class 'pysal.core.IOHandlers.pyDbfIO.DBF'>\n",
      "          \n",
      "AREA\n",
      "          \n",
      "PERIMETER\n",
      "          \n",
      "STATE_\n",
      "          \n",
      "STATE_ID\n",
      "          \n",
      "STATE_NAME\n",
      "          \n",
      "[('N', 12, 3), ('N', 12, 3), ('N', 11, 0), ('N', 11, 0), ('C', 25, 0), ('C', 2, 0), ('C', 7, 0), ('C', 2, 0)]\n"
     ]
    }
   ],
   "source": [
    "# explore the .dbf file \n",
    "dbf_1 = ps.open(dbf_path)\n",
    "print(type(dbf_1))\n",
    "#\n",
    "print(\" \"*10)\n",
    "#\n",
    "print(dbf_1.header[0])\n",
    "#\n",
    "print(\" \"*10)\n",
    "#\n",
    "print(dbf_1.header[1])\n",
    "#\n",
    "print(\" \"*10)\n",
    "#\n",
    "print(dbf_1.header[2])\n",
    "#\n",
    "print(\" \"*10)\n",
    "#\n",
    "print(dbf_1.header[3])\n",
    "#\n",
    "print(\" \"*10)\n",
    "#\n",
    "print(dbf_1.header[4])\n",
    "#\n",
    "\n",
    "print(\" \"*10)\n",
    "#\n",
    "print(dbf_1.field_spec)\n",
    "#\n",
    "\n"
   ]
  },
  {
   "cell_type": "markdown",
   "metadata": {},
   "source": [
    "### SOURCE -- http://pysal.readthedocs.io/en/latest/library/core/IOHandlers/pyDbfIO.html\n",
    "\n",
    "field_spec == A list describing the data types of each field. \n",
    "It is comprised of a list of tuples, each tuple describing a field.\n",
    "The format for the tuples is (“Type”,len,precision). \n",
    "Valid Types are ‘C’ for characters, ‘L’ for bool, ‘D’ for data, ‘N’ or ‘F’ for number.\n",
    "\n"
   ]
  },
  {
   "cell_type": "code",
   "execution_count": 12,
   "metadata": {
    "collapsed": false
   },
   "outputs": [
    {
     "name": "stdout",
     "output_type": "stream",
     "text": [
      "[1, 2, 3, 4, 5, 6, 7, 8, 9, 10, 11, 12, 13, 14, 15, 16, 17, 18, 19, 20, 21, 22, 23, 24, 25, 26, 28, 29, 30, 31, 32, 33, 34, 35, 36, 37, 38, 39, 40, 41, 42, 43, 44, 45, 46, 47, 48, 51]\n",
      "<class 'list'>\n"
     ]
    }
   ],
   "source": [
    "# Print values from any ONE COLUMN - with COLUMN LABEL \n",
    "# We get LIST Object\n",
    "\n",
    "state_id = dbf_1.by_col(\"STATE_ID\")\n",
    "print(state_id)\n",
    "#\n",
    "print(type(state_id))\n"
   ]
  },
  {
   "cell_type": "code",
   "execution_count": 18,
   "metadata": {
    "collapsed": false
   },
   "outputs": [
    {
     "name": "stdout",
     "output_type": "stream",
     "text": [
      "(8, 48)\n",
      "TRANSPOSED Shape == (48, 8)\n",
      "                                                                                                                                                                                    \n",
      "[['20.75' '45.132' '9.571' '21.874' '22.598' '27.966' '16.477' '24.391'\n",
      "  '2.794' '25.577' '28.187' '2.677' '15.853' '2.309' '21.606' '13.875'\n",
      "  '12.55' '1.392' '0.293' '2.057' '9.932' '29.969' '22.967' '41.533'\n",
      "  '11.3' '15.396' '0.553' '6.493' '2.625' '28.041' '10.645' '21.982'\n",
      "  '10.512' '18.648' '28.859' '18.031' '12.628' '10.876' '65.06' '30.936'\n",
      "  '12.897' '11.871' '14.599' '7.794' '13.517' '11.225' '13.348' '16.928']\n",
      " ['34.956' '34.527' '18.899' '21.353' '22.746' '21.987' '21.891' '28.529'\n",
      "  '8.45' '29.51' '24.787' '8.375' '18.79' '13.105' '23.383' '28.487'\n",
      "  '16.841' '5.722' '3.643' '8.419' '16.11' '23.608' '19.992' '42.26'\n",
      "  '16.13' '19.999' '4.075' '18.196' '21.881' '22.025' '21.152' '21.105'\n",
      "  '31.199' '23.596' '23.257' '25.557' '34.583' '21.46' '64.807' '23.538'\n",
      "  '17.238' '22.06' '20.103' '16.127' '20.877' '32.57' '41.085' '40.823']\n",
      " ['1' '2' '3' '4' '5' '6' '7' '8' '9' '10' '11' '12' '13' '14' '15' '16'\n",
      "  '17' '18' '19' '20' '21' '22' '23' '24' '25' '26' '28' '29' '30' '31'\n",
      "  '32' '33' '34' '35' '36' '37' '38' '39' '40' '41' '42' '43' '44' '45'\n",
      "  '46' '47' '48' '51']\n",
      " ['1' '2' '3' '4' '5' '6' '7' '8' '9' '10' '11' '12' '13' '14' '15' '16'\n",
      "  '17' '18' '19' '20' '21' '22' '23' '24' '25' '26' '28' '29' '30' '31'\n",
      "  '32' '33' '34' '35' '36' '37' '38' '39' '40' '41' '42' '43' '44' '45'\n",
      "  '46' '47' '48' '51']\n",
      " ['Washington' 'Montana' 'Maine' 'North Dakota' 'South Dakota' 'Wyoming'\n",
      "  'Wisconsin' 'Idaho' 'Vermont' 'Minnesota' 'Oregon' 'New Hampshire'\n",
      "  'Iowa' 'Massachusetts' 'Nebraska' 'New York' 'Pennsylvania'\n",
      "  'Connecticut' 'Rhode Island' 'New Jersey' 'Indiana' 'Nevada' 'Utah'\n",
      "  'California' 'Ohio' 'Illinois' 'Delaware' 'West Virginia' 'Maryland'\n",
      "  'Colorado' 'Kentucky' 'Kansas' 'Virginia' 'Missouri' 'Arizona'\n",
      "  'Oklahoma' 'North Carolina' 'Tennessee' 'Texas' 'New Mexico' 'Alabama'\n",
      "  'Mississippi' 'Georgia' 'South Carolina' 'Arkansas' 'Louisiana'\n",
      "  'Florida' 'Michigan']\n",
      " ['53' '30' '23' '38' '46' '56' '55' '16' '50' '27' '41' '33' '19' '25'\n",
      "  '31' '36' '42' '09' '44' '34' '18' '32' '49' '06' '39' '17' '10' '54'\n",
      "  '24' '08' '21' '20' '51' '29' '04' '40' '37' '47' '48' '35' '01' '28'\n",
      "  '13' '45' '05' '22' '12' '26']\n",
      " ['Pacific' 'Mtn' 'N Eng' 'W N Cen' 'W N Cen' 'Mtn' 'E N Cen' 'Mtn'\n",
      "  'N Eng' 'W N Cen' 'Pacific' 'N Eng' 'W N Cen' 'N Eng' 'W N Cen'\n",
      "  'Mid Atl' 'Mid Atl' 'N Eng' 'N Eng' 'Mid Atl' 'E N Cen' 'Mtn' 'Mtn'\n",
      "  'Pacific' 'E N Cen' 'E N Cen' 'S Atl' 'S Atl' 'S Atl' 'Mtn' 'E S Cen'\n",
      "  'W N Cen' 'S Atl' 'W N Cen' 'Mtn' 'W S Cen' 'S Atl' 'E S Cen' 'W S Cen'\n",
      "  'Mtn' 'E S Cen' 'E S Cen' 'S Atl' 'S Atl' 'W S Cen' 'W S Cen' 'S Atl'\n",
      "  'E N Cen']\n",
      " ['WA' 'MT' 'ME' 'ND' 'SD' 'WY' 'WI' 'ID' 'VT' 'MN' 'OR' 'NH' 'IA' 'MA'\n",
      "  'NE' 'NY' 'PA' 'CT' 'RI' 'NJ' 'IN' 'NV' 'UT' 'CA' 'OH' 'IL' 'DE' 'WV'\n",
      "  'MD' 'CO' 'KY' 'KS' 'VA' 'MO' 'AZ' 'OK' 'NC' 'TN' 'TX' 'NM' 'AL' 'MS'\n",
      "  'GA' 'SC' 'AR' 'LA' 'FL' 'MI']]\n",
      "TRANSPOSED== [['20.75' '34.956' '1' '1' 'Washington' '53' 'Pacific' 'WA']\n",
      " ['45.132' '34.527' '2' '2' 'Montana' '30' 'Mtn' 'MT']\n",
      " ['9.571' '18.899' '3' '3' 'Maine' '23' 'N Eng' 'ME']\n",
      " ['21.874' '21.353' '4' '4' 'North Dakota' '38' 'W N Cen' 'ND']\n",
      " ['22.598' '22.746' '5' '5' 'South Dakota' '46' 'W N Cen' 'SD']\n",
      " ['27.966' '21.987' '6' '6' 'Wyoming' '56' 'Mtn' 'WY']\n",
      " ['16.477' '21.891' '7' '7' 'Wisconsin' '55' 'E N Cen' 'WI']\n",
      " ['24.391' '28.529' '8' '8' 'Idaho' '16' 'Mtn' 'ID']\n",
      " ['2.794' '8.45' '9' '9' 'Vermont' '50' 'N Eng' 'VT']\n",
      " ['25.577' '29.51' '10' '10' 'Minnesota' '27' 'W N Cen' 'MN']\n",
      " ['28.187' '24.787' '11' '11' 'Oregon' '41' 'Pacific' 'OR']\n",
      " ['2.677' '8.375' '12' '12' 'New Hampshire' '33' 'N Eng' 'NH']\n",
      " ['15.853' '18.79' '13' '13' 'Iowa' '19' 'W N Cen' 'IA']\n",
      " ['2.309' '13.105' '14' '14' 'Massachusetts' '25' 'N Eng' 'MA']\n",
      " ['21.606' '23.383' '15' '15' 'Nebraska' '31' 'W N Cen' 'NE']\n",
      " ['13.875' '28.487' '16' '16' 'New York' '36' 'Mid Atl' 'NY']\n",
      " ['12.55' '16.841' '17' '17' 'Pennsylvania' '42' 'Mid Atl' 'PA']\n",
      " ['1.392' '5.722' '18' '18' 'Connecticut' '09' 'N Eng' 'CT']\n",
      " ['0.293' '3.643' '19' '19' 'Rhode Island' '44' 'N Eng' 'RI']\n",
      " ['2.057' '8.419' '20' '20' 'New Jersey' '34' 'Mid Atl' 'NJ']\n",
      " ['9.932' '16.11' '21' '21' 'Indiana' '18' 'E N Cen' 'IN']\n",
      " ['29.969' '23.608' '22' '22' 'Nevada' '32' 'Mtn' 'NV']\n",
      " ['22.967' '19.992' '23' '23' 'Utah' '49' 'Mtn' 'UT']\n",
      " ['41.533' '42.26' '24' '24' 'California' '06' 'Pacific' 'CA']\n",
      " ['11.3' '16.13' '25' '25' 'Ohio' '39' 'E N Cen' 'OH']\n",
      " ['15.396' '19.999' '26' '26' 'Illinois' '17' 'E N Cen' 'IL']\n",
      " ['0.553' '4.075' '28' '28' 'Delaware' '10' 'S Atl' 'DE']\n",
      " ['6.493' '18.196' '29' '29' 'West Virginia' '54' 'S Atl' 'WV']\n",
      " ['2.625' '21.881' '30' '30' 'Maryland' '24' 'S Atl' 'MD']\n",
      " ['28.041' '22.025' '31' '31' 'Colorado' '08' 'Mtn' 'CO']\n",
      " ['10.645' '21.152' '32' '32' 'Kentucky' '21' 'E S Cen' 'KY']\n",
      " ['21.982' '21.105' '33' '33' 'Kansas' '20' 'W N Cen' 'KS']\n",
      " ['10.512' '31.199' '34' '34' 'Virginia' '51' 'S Atl' 'VA']\n",
      " ['18.648' '23.596' '35' '35' 'Missouri' '29' 'W N Cen' 'MO']\n",
      " ['28.859' '23.257' '36' '36' 'Arizona' '04' 'Mtn' 'AZ']\n",
      " ['18.031' '25.557' '37' '37' 'Oklahoma' '40' 'W S Cen' 'OK']\n",
      " ['12.628' '34.583' '38' '38' 'North Carolina' '37' 'S Atl' 'NC']\n",
      " ['10.876' '21.46' '39' '39' 'Tennessee' '47' 'E S Cen' 'TN']\n",
      " ['65.06' '64.807' '40' '40' 'Texas' '48' 'W S Cen' 'TX']\n",
      " ['30.936' '23.538' '41' '41' 'New Mexico' '35' 'Mtn' 'NM']\n",
      " ['12.897' '17.238' '42' '42' 'Alabama' '01' 'E S Cen' 'AL']\n",
      " ['11.871' '22.06' '43' '43' 'Mississippi' '28' 'E S Cen' 'MS']\n",
      " ['14.599' '20.103' '44' '44' 'Georgia' '13' 'S Atl' 'GA']\n",
      " ['7.794' '16.127' '45' '45' 'South Carolina' '45' 'S Atl' 'SC']\n",
      " ['13.517' '20.877' '46' '46' 'Arkansas' '05' 'W S Cen' 'AR']\n",
      " ['11.225' '32.57' '47' '47' 'Louisiana' '22' 'W S Cen' 'LA']\n",
      " ['13.348' '41.085' '48' '48' 'Florida' '12' 'S Atl' 'FL']\n",
      " ['16.928' '40.823' '51' '51' 'Michigan' '26' 'E N Cen' 'MI']]\n"
     ]
    }
   ],
   "source": [
    "# Get a NUMPY.nd.array from the dbf file columns \n",
    "\n",
    "ids_np_array = np.array([dbf_1.by_col(ids) for ids in dbf_1.header])\n",
    "#\n",
    "t_ids_np_array = np.array([dbf_1.by_col(ids) for ids in dbf_1.header]).T ### TRANSPOSED \n",
    "#\n",
    "print(ids_np_array.shape)\n",
    "#\n",
    "print(\"TRANSPOSED Shape ==\",t_ids_np_array.shape)\n",
    "\n",
    "#\n",
    "print(\"  \"*90)\n",
    "#\n",
    "# As seen below - we have \"All Columns Values\" in a 2D Numpy Array - we dont have COLUMN LABELS\n",
    "# Not intelligent...\n",
    "print(ids_np_array)\n",
    "#\n",
    "print(\"  \"*90)\n",
    "#\n",
    "# We TRANSPOSED the Numpy Array to show it in a DATAFRAME ROWS like format \n",
    "#\n",
    "print(\"TRANSPOSED==\",t_ids_np_array)\n",
    "#\n",
    "\n"
   ]
  },
  {
   "cell_type": "code",
   "execution_count": 17,
   "metadata": {
    "collapsed": false
   },
   "outputs": [
    {
     "name": "stdout",
     "output_type": "stream",
     "text": [
      "['Washington', 'Montana', 'Maine', 'North Dakota', 'South Dakota', 'Wyoming', 'Wisconsin', 'Idaho', 'Vermont', 'Minnesota', 'Oregon', 'New Hampshire', 'Iowa', 'Massachusetts', 'Nebraska', 'New York', 'Pennsylvania', 'Connecticut', 'Rhode Island', 'New Jersey', 'Indiana', 'Nevada', 'Utah', 'California', 'Ohio', 'Illinois', 'Delaware', 'West Virginia', 'Maryland', 'Colorado', 'Kentucky', 'Kansas', 'Virginia', 'Missouri', 'Arizona', 'Oklahoma', 'North Carolina', 'Tennessee', 'Texas', 'New Mexico', 'Alabama', 'Mississippi', 'Georgia', 'South Carolina', 'Arkansas', 'Louisiana', 'Florida', 'Michigan']\n"
     ]
    }
   ],
   "source": [
    "# Accessing all values within a COLUMN \n",
    "\n",
    "states = dbf_1.by_col(\"STATE_NAME\")\n",
    "print(states)"
   ]
  },
  {
   "cell_type": "code",
   "execution_count": 20,
   "metadata": {
    "collapsed": false
   },
   "outputs": [
    {
     "name": "stdout",
     "output_type": "stream",
     "text": [
      "<class 'numpy.ndarray'>\n",
      "                                        \n",
      "SHAPE of the numpy Array ____ (48, 4)\n",
      "                                        \n",
      "[[20.75  34.956  1.     1.   ]\n",
      " [45.132 34.527  2.     2.   ]\n",
      " [ 9.571 18.899  3.     3.   ]\n",
      " [21.874 21.353  4.     4.   ]\n",
      " [22.598 22.746  5.     5.   ]\n",
      " [27.966 21.987  6.     6.   ]\n",
      " [16.477 21.891  7.     7.   ]\n",
      " [24.391 28.529  8.     8.   ]\n",
      " [ 2.794  8.45   9.     9.   ]\n",
      " [25.577 29.51  10.    10.   ]\n",
      " [28.187 24.787 11.    11.   ]\n",
      " [ 2.677  8.375 12.    12.   ]\n",
      " [15.853 18.79  13.    13.   ]\n",
      " [ 2.309 13.105 14.    14.   ]\n",
      " [21.606 23.383 15.    15.   ]\n",
      " [13.875 28.487 16.    16.   ]\n",
      " [12.55  16.841 17.    17.   ]\n",
      " [ 1.392  5.722 18.    18.   ]\n",
      " [ 0.293  3.643 19.    19.   ]\n",
      " [ 2.057  8.419 20.    20.   ]\n",
      " [ 9.932 16.11  21.    21.   ]\n",
      " [29.969 23.608 22.    22.   ]\n",
      " [22.967 19.992 23.    23.   ]\n",
      " [41.533 42.26  24.    24.   ]\n",
      " [11.3   16.13  25.    25.   ]\n",
      " [15.396 19.999 26.    26.   ]\n",
      " [ 0.553  4.075 28.    28.   ]\n",
      " [ 6.493 18.196 29.    29.   ]\n",
      " [ 2.625 21.881 30.    30.   ]\n",
      " [28.041 22.025 31.    31.   ]\n",
      " [10.645 21.152 32.    32.   ]\n",
      " [21.982 21.105 33.    33.   ]\n",
      " [10.512 31.199 34.    34.   ]\n",
      " [18.648 23.596 35.    35.   ]\n",
      " [28.859 23.257 36.    36.   ]\n",
      " [18.031 25.557 37.    37.   ]\n",
      " [12.628 34.583 38.    38.   ]\n",
      " [10.876 21.46  39.    39.   ]\n",
      " [65.06  64.807 40.    40.   ]\n",
      " [30.936 23.538 41.    41.   ]\n",
      " [12.897 17.238 42.    42.   ]\n",
      " [11.871 22.06  43.    43.   ]\n",
      " [14.599 20.103 44.    44.   ]\n",
      " [ 7.794 16.127 45.    45.   ]\n",
      " [13.517 20.877 46.    46.   ]\n",
      " [11.225 32.57  47.    47.   ]\n",
      " [13.348 41.085 48.    48.   ]\n",
      " [16.928 40.823 51.    51.   ]]\n"
     ]
    }
   ],
   "source": [
    "## Extracting Column Data -- with specific Value Types\n",
    "## Writing a List Comprehension\n",
    "## NUMERIC Only Columns \n",
    "\n",
    "num_cols = np.array([dbf_1.by_col(dbf_1.header[i]) for i in range(len(dbf_1.header)) if dbf_1.field_spec[i][0] == 'N']).T\n",
    "print(type(num_cols))\n",
    "print(\"  \"*20)\n",
    "print(\"SHAPE of the numpy Array ____\",num_cols.shape) ## 2 D Array with SHAPE - (48, 4)\n",
    "print(\"  \"*20)\n",
    "print(num_cols)\n"
   ]
  },
  {
   "cell_type": "code",
   "execution_count": 23,
   "metadata": {
    "collapsed": false
   },
   "outputs": [
    {
     "name": "stdout",
     "output_type": "stream",
     "text": [
      "<class 'numpy.ndarray'>\n",
      "                                        \n",
      "SHAPE of the numpy Array ____ (48, 4)\n",
      "                                        \n",
      "[['Washington' '53' 'Pacific' 'WA']\n",
      " ['Montana' '30' 'Mtn' 'MT']\n",
      " ['Maine' '23' 'N Eng' 'ME']\n",
      " ['North Dakota' '38' 'W N Cen' 'ND']\n",
      " ['South Dakota' '46' 'W N Cen' 'SD']\n",
      " ['Wyoming' '56' 'Mtn' 'WY']\n",
      " ['Wisconsin' '55' 'E N Cen' 'WI']\n",
      " ['Idaho' '16' 'Mtn' 'ID']\n",
      " ['Vermont' '50' 'N Eng' 'VT']\n",
      " ['Minnesota' '27' 'W N Cen' 'MN']\n",
      " ['Oregon' '41' 'Pacific' 'OR']\n",
      " ['New Hampshire' '33' 'N Eng' 'NH']\n",
      " ['Iowa' '19' 'W N Cen' 'IA']\n",
      " ['Massachusetts' '25' 'N Eng' 'MA']\n",
      " ['Nebraska' '31' 'W N Cen' 'NE']\n",
      " ['New York' '36' 'Mid Atl' 'NY']\n",
      " ['Pennsylvania' '42' 'Mid Atl' 'PA']\n",
      " ['Connecticut' '09' 'N Eng' 'CT']\n",
      " ['Rhode Island' '44' 'N Eng' 'RI']\n",
      " ['New Jersey' '34' 'Mid Atl' 'NJ']\n",
      " ['Indiana' '18' 'E N Cen' 'IN']\n",
      " ['Nevada' '32' 'Mtn' 'NV']\n",
      " ['Utah' '49' 'Mtn' 'UT']\n",
      " ['California' '06' 'Pacific' 'CA']\n",
      " ['Ohio' '39' 'E N Cen' 'OH']\n",
      " ['Illinois' '17' 'E N Cen' 'IL']\n",
      " ['Delaware' '10' 'S Atl' 'DE']\n",
      " ['West Virginia' '54' 'S Atl' 'WV']\n",
      " ['Maryland' '24' 'S Atl' 'MD']\n",
      " ['Colorado' '08' 'Mtn' 'CO']\n",
      " ['Kentucky' '21' 'E S Cen' 'KY']\n",
      " ['Kansas' '20' 'W N Cen' 'KS']\n",
      " ['Virginia' '51' 'S Atl' 'VA']\n",
      " ['Missouri' '29' 'W N Cen' 'MO']\n",
      " ['Arizona' '04' 'Mtn' 'AZ']\n",
      " ['Oklahoma' '40' 'W S Cen' 'OK']\n",
      " ['North Carolina' '37' 'S Atl' 'NC']\n",
      " ['Tennessee' '47' 'E S Cen' 'TN']\n",
      " ['Texas' '48' 'W S Cen' 'TX']\n",
      " ['New Mexico' '35' 'Mtn' 'NM']\n",
      " ['Alabama' '01' 'E S Cen' 'AL']\n",
      " ['Mississippi' '28' 'E S Cen' 'MS']\n",
      " ['Georgia' '13' 'S Atl' 'GA']\n",
      " ['South Carolina' '45' 'S Atl' 'SC']\n",
      " ['Arkansas' '05' 'W S Cen' 'AR']\n",
      " ['Louisiana' '22' 'W S Cen' 'LA']\n",
      " ['Florida' '12' 'S Atl' 'FL']\n",
      " ['Michigan' '26' 'E N Cen' 'MI']]\n"
     ]
    }
   ],
   "source": [
    "str_cols = np.array([dbf_1.by_col(dbf_1.header[i]) for i in range(len(dbf_1.header)) if dbf_1.field_spec[i][0] == 'C']).T\n",
    "print(type(str_cols))\n",
    "print(\"  \"*20)\n",
    "print(\"SHAPE of the numpy Array ____\",str_cols.shape) ## 2 D Array with SHAPE - (48, 4)\n",
    "print(\"  \"*20)\n",
    "print(str_cols)\n"
   ]
  },
  {
   "cell_type": "code",
   "execution_count": 36,
   "metadata": {
    "collapsed": false
   },
   "outputs": [
    {
     "name": "stdout",
     "output_type": "stream",
     "text": [
      "     AREA  PERIMETER  STATE_ STATE_ABBR STATE_FIPS  STATE_ID    STATE_NAME  \\\n",
      "0  20.750     34.956       1         WA         53         1    Washington   \n",
      "1  45.132     34.527       2         MT         30         2       Montana   \n",
      "2   9.571     18.899       3         ME         23         3         Maine   \n",
      "3  21.874     21.353       4         ND         38         4  North Dakota   \n",
      "4  22.598     22.746       5         SD         46         5  South Dakota   \n",
      "\n",
      "  SUB_REGION  \n",
      "0    Pacific  \n",
      "1        Mtn  \n",
      "2      N Eng  \n",
      "3    W N Cen  \n",
      "4    W N Cen  \n",
      "_ __ __ __ __ __ __ __ __ __ __ __ __ __ __ __ __ __ __ __ __ __ __ __ __ __ __ __ __ __ __ __ __ __ __ __ __ __ __ __ __ __ __ __ __ __ __ __ __ __ __ __ __ __ __ __ __ __ __ __ _\n",
      "                                                                                                                                                                                    \n",
      "      AREA  PERIMETER  STATE_ STATE_ABBR STATE_FIPS  STATE_ID      STATE_NAME  \\\n",
      "43   7.794     16.127      45         SC         45        45  South Carolina   \n",
      "44  13.517     20.877      46         AR         05        46        Arkansas   \n",
      "45  11.225     32.570      47         LA         22        47       Louisiana   \n",
      "46  13.348     41.085      48         FL         12        48         Florida   \n",
      "47  16.928     40.823      51         MI         26        51        Michigan   \n",
      "\n",
      "   SUB_REGION  \n",
      "43      S Atl  \n",
      "44    W S Cen  \n",
      "45    W S Cen  \n",
      "46      S Atl  \n",
      "47    E N Cen  \n"
     ]
    }
   ],
   "source": [
    "# Creating a DICTIONARY n then a PANADAS DataFrame from the Numpy Arrays\n",
    "#\n",
    "dic_1 = dict([(col, np.array(dbf_1.by_col(col))) for col in dbf_1.header])\n",
    "df_1 = pd.DataFrame(dic_1)\n",
    "\n",
    "# Print out Top Five and Bottom Five Observations / Rows\n",
    "\n",
    "print(df_1.head(5))\n",
    "print(\"_ _\"*60)\n",
    "print(\"   \"*60)\n",
    "print(df_1.tail(5))\n",
    "\n"
   ]
  },
  {
   "cell_type": "code",
   "execution_count": 37,
   "metadata": {
    "collapsed": false
   },
   "outputs": [
    {
     "name": "stdout",
     "output_type": "stream",
     "text": [
      "<class 'list'>\n",
      "                                                                                                                                                                                    \n",
      "     AREA  PERIMETER  STATE_ STATE_ABBR STATE_FIPS  STATE_ID    STATE_NAME  \\\n",
      "0  20.750     34.956       1         WA         53         1    Washington   \n",
      "1  45.132     34.527       2         MT         30         2       Montana   \n",
      "2   9.571     18.899       3         ME         23         3         Maine   \n",
      "3  21.874     21.353       4         ND         38         4  North Dakota   \n",
      "4  22.598     22.746       5         SD         46         5  South Dakota   \n",
      "\n",
      "  SUB_REGION  \n",
      "0    Pacific  \n",
      "1        Mtn  \n",
      "2      N Eng  \n",
      "3    W N Cen  \n",
      "4    W N Cen  \n",
      "_ __ __ __ __ __ __ __ __ __ __ __ __ __ __ __ __ __ __ __ __ __ __ __ __ __ __ __ __ __ __ __ __ __ __ __ __ __ __ __ __ __ __ __ __ __ __ __ __ __ __ __ __ __ __ __ __ __ __ __ _\n",
      "                                                                                                                                                                                    \n",
      "      AREA  PERIMETER  STATE_ STATE_ABBR STATE_FIPS  STATE_ID      STATE_NAME  \\\n",
      "43   7.794     16.127      45         SC         45        45  South Carolina   \n",
      "44  13.517     20.877      46         AR         05        46        Arkansas   \n",
      "45  11.225     32.570      47         LA         22        47       Louisiana   \n",
      "46  13.348     41.085      48         FL         12        48         Florida   \n",
      "47  16.928     40.823      51         MI         26        51        Michigan   \n",
      "\n",
      "   SUB_REGION  \n",
      "43      S Atl  \n",
      "44    W S Cen  \n",
      "45    W S Cen  \n",
      "46      S Atl  \n",
      "47    E N Cen  \n"
     ]
    }
   ],
   "source": [
    "# to get Original Order of Columns - pass the dbf_1.header , LIST , to the PANDAS DF as a LIST index \n",
    "#\n",
    "print(type(dbf_1.header))\n",
    "print(\"   \"*60)\n",
    "\n",
    "#df_1 = df_1[dbf_1.header]\n",
    "\n",
    "print(df_1.head(5))\n",
    "print(\"_ _\"*60)\n",
    "print(\"   \"*60)\n",
    "print(df_1.tail(5))\n"
   ]
  },
  {
   "cell_type": "code",
   "execution_count": 39,
   "metadata": {
    "collapsed": false
   },
   "outputs": [
    {
     "name": "stdout",
     "output_type": "stream",
     "text": [
      "            AREA  PERIMETER     STATE_   STATE_ID\n",
      "count  48.000000  48.000000  48.000000  48.000000\n",
      "mean   17.022792  22.912771  25.000000  25.000000\n",
      "std    12.475875  10.849594  14.510451  14.510451\n",
      "min     0.293000   3.643000   1.000000   1.000000\n",
      "25%    10.367000  17.956500  12.750000  12.750000\n",
      "50%    14.237000  21.886000  24.500000  24.500000\n",
      "75%    22.690250  26.289500  37.250000  37.250000\n",
      "max    65.060000  64.807000  51.000000  51.000000\n",
      "                                                                                                                        \n",
      "           count       mean        std    min      25%     50%       75%  \\\n",
      "AREA        48.0  17.022792  12.475875  0.293  10.3670  14.237  22.69025   \n",
      "PERIMETER   48.0  22.912771  10.849594  3.643  17.9565  21.886  26.28950   \n",
      "STATE_      48.0  25.000000  14.510451  1.000  12.7500  24.500  37.25000   \n",
      "STATE_ID    48.0  25.000000  14.510451  1.000  12.7500  24.500  37.25000   \n",
      "\n",
      "              max  \n",
      "AREA       65.060  \n",
      "PERIMETER  64.807  \n",
      "STATE_     51.000  \n",
      "STATE_ID   51.000  \n"
     ]
    }
   ],
   "source": [
    "print(df_1.describe())\n",
    "print(\"  \"*60)\n",
    "print(df_1.describe().T)"
   ]
  },
  {
   "cell_type": "code",
   "execution_count": 50,
   "metadata": {
    "collapsed": false
   },
   "outputs": [
    {
     "name": "stdout",
     "output_type": "stream",
     "text": [
      ".dbf Local File Path___  /home/dhankar/anaconda2/envs/gisenv/lib/python3.4/site-packages/pysal/examples/us_income/us48.shp\n"
     ]
    }
   ],
   "source": [
    "us_income_sh_path = ps.examples.get_path('us48.shp')\n",
    "print(\".dbf Local File Path___ \",us_income_sh_path)"
   ]
  },
  {
   "cell_type": "code",
   "execution_count": 57,
   "metadata": {
    "collapsed": false
   },
   "outputs": [
    {
     "name": "stdout",
     "output_type": "stream",
     "text": [
      "<class 'pysal.core.IOHandlers.pyShpIO.PurePyShpWrapper'>\n",
      "<class 'matplotlib.axes._subplots.AxesSubplot'>\n"
     ]
    },
    {
     "data": {
      "image/png": "[encoded data removed]",
      "text/plain": [
       "<matplotlib.figure.Figure at 0x7ffb451e6dd8>"
      ]
     },
     "metadata": {},
     "output_type": "display_data"
    }
   ],
   "source": [
    "# Visualizing the POLYGONS \n",
    "#\n",
    "%matplotlib inline\n",
    "\n",
    "import matplotlib\n",
    "import matplotlib.pyplot as plt\n",
    "from pysal.contrib.viz import mapping as maps\n",
    "#\n",
    "fig = plt.figure()\n",
    "#\n",
    "\n",
    "#path_shp_file = \"/media/dhankar/Dhankar_1/a1_18/a1____GeoSpatialANAL/GIS_DATA/ShapeFiles/tl_2010_02_place10.shp\"\n",
    "#\n",
    "#print(\"path_shp_file____\",path_shp_file)\n",
    "#\n",
    "shp_f = ps.open(us_income_sh_path)\n",
    "#\n",
    "print(type(shp_f))\n",
    "#\n",
    "base = maps.map_poly_shp(shp_f)\n",
    "base.set_facecolor('blue')\n",
    "base.set_linewidth(0.75)\n",
    "base.set_edgecolor('0.3') ## 0.8 --- gives Light Greyish edges \n",
    "\n",
    "\n",
    "ax = maps.setup_ax([base],[shp_f.bbox, shp_f.bbox, shp_f.bbox])\n",
    "print(type(ax))\n",
    "\n",
    "fig.add_axes(ax)\n",
    "plt.show()\n",
    "\n",
    "#maps.plot_poly_lines(path_shp_file)\n"
   ]
  },
  {
   "cell_type": "code",
   "execution_count": 43,
   "metadata": {
    "collapsed": false
   },
   "outputs": [
    {
     "ename": "NameError",
     "evalue": "name 'figure' is not defined",
     "output_type": "error",
     "traceback": [
      "\u001b[0;31m---------------------------------------------------------------------------\u001b[0m",
      "\u001b[0;31mNameError\u001b[0m                                 Traceback (most recent call last)",
      "\u001b[0;32m<ipython-input-43-8c1993580989>\u001b[0m in \u001b[0;36m<module>\u001b[0;34m()\u001b[0m\n\u001b[0;32m----> 1\u001b[0;31m \u001b[0mf\u001b[0m \u001b[0;34m=\u001b[0m \u001b[0mfigure\u001b[0m\u001b[0;34m(\u001b[0m\u001b[0;34m)\u001b[0m\u001b[0;34m\u001b[0m\u001b[0m\n\u001b[0m\u001b[1;32m      2\u001b[0m \u001b[0max\u001b[0m \u001b[0;34m=\u001b[0m \u001b[0mf\u001b[0m\u001b[0;34m.\u001b[0m\u001b[0madd_subplot\u001b[0m\u001b[0;34m(\u001b[0m\u001b[0;36m111\u001b[0m\u001b[0;34m)\u001b[0m\u001b[0;34m\u001b[0m\u001b[0m\n\u001b[1;32m      3\u001b[0m \u001b[0mpoly_collection\u001b[0m \u001b[0;34m=\u001b[0m \u001b[0mviz\u001b[0m\u001b[0;34m.\u001b[0m\u001b[0mmap_poly_shp\u001b[0m\u001b[0;34m(\u001b[0m\u001b[0mps\u001b[0m\u001b[0;34m.\u001b[0m\u001b[0mopen\u001b[0m\u001b[0;34m(\u001b[0m\u001b[0mpath_shp_file\u001b[0m\u001b[0;34m)\u001b[0m\u001b[0;34m)\u001b[0m\u001b[0;34m\u001b[0m\u001b[0m\n\u001b[1;32m      4\u001b[0m \u001b[0mpoly_collection\u001b[0m\u001b[0;34m.\u001b[0m\u001b[0mset_facecolor\u001b[0m\u001b[0;34m(\u001b[0m\u001b[0;34m'none'\u001b[0m\u001b[0;34m)\u001b[0m\u001b[0;34m\u001b[0m\u001b[0m\n\u001b[1;32m      5\u001b[0m \u001b[0max\u001b[0m\u001b[0;34m.\u001b[0m\u001b[0madd_collection\u001b[0m\u001b[0;34m(\u001b[0m\u001b[0mpoly_collection\u001b[0m\u001b[0;34m)\u001b[0m\u001b[0;34m\u001b[0m\u001b[0m\n",
      "\u001b[0;31mNameError\u001b[0m: name 'figure' is not defined"
     ]
    }
   ],
   "source": [
    "#SOURCE -- https://github.com/pysal/notebooks/blob/master/notebooks/PySAL_io.ipynb\n",
    "# Hold for now \n",
    "\n",
    "\"\"\"\n",
    "f = figure()\n",
    "ax = f.add_subplot(111)\n",
    "poly_collection = viz.map_poly_shp(ps.open(path_shp_file))\n",
    "poly_collection.set_facecolor('none')\n",
    "ax.add_collection(poly_collection)\n",
    "ax.autoscale_view()\n",
    "ax.set_frame_on(False)\n",
    "ax.axes.get_yaxis().set_visible(False)\n",
    "ax.axes.get_xaxis().set_visible(False)\n",
    "show()\n",
    "\"\"\"\n"
   ]
  },
  {
   "cell_type": "code",
   "execution_count": null,
   "metadata": {
    "collapsed": true
   },
   "outputs": [],
   "source": []
  },
  {
   "cell_type": "code",
   "execution_count": null,
   "metadata": {
    "collapsed": true
   },
   "outputs": [],
   "source": []
  },
  {
   "cell_type": "code",
   "execution_count": null,
   "metadata": {
    "collapsed": true
   },
   "outputs": [],
   "source": [
    "## What are .shp -SHAPE Files ? --- https://www.esri.com/library/whitepapers/pdfs/shapefile.pdf\n",
    "## PySAL reading -SHAPE Files --- \n",
    "## \n",
    "\n",
    "path_shp_file = \"/media/dhankar/Dhankar_1/a1_18/a1____GeoSpatialANAL/GIS_DATA/ShapeFiles/tl_2010_02_place10.shp\"\n",
    "\n",
    "print(\"path_shp_file____\",path_shp_file)\n",
    "#\n",
    "shp_f = ps.open(path_shp_file)\n",
    "#\n",
    "print(type(shp_f))\n",
    "#\n",
    "# <class 'pysal.core.IOHandlers.pyShpIO.PurePyShpWrapper'>"
   ]
  },
  {
   "cell_type": "code",
   "execution_count": null,
   "metadata": {
    "collapsed": true
   },
   "outputs": [],
   "source": []
  },
  {
   "cell_type": "code",
   "execution_count": null,
   "metadata": {
    "collapsed": true
   },
   "outputs": [],
   "source": []
  },
  {
   "cell_type": "code",
   "execution_count": null,
   "metadata": {
    "collapsed": true
   },
   "outputs": [],
   "source": []
  },
  {
   "cell_type": "code",
   "execution_count": null,
   "metadata": {
    "collapsed": true
   },
   "outputs": [],
   "source": []
  },
  {
   "cell_type": "code",
   "execution_count": null,
   "metadata": {
    "collapsed": true
   },
   "outputs": [],
   "source": []
  },
  {
   "cell_type": "code",
   "execution_count": null,
   "metadata": {
    "collapsed": true
   },
   "outputs": [],
   "source": []
  },
  {
   "cell_type": "code",
   "execution_count": null,
   "metadata": {
    "collapsed": true
   },
   "outputs": [],
   "source": []
  },
  {
   "cell_type": "markdown",
   "metadata": {},
   "source": [
    "## MARKOV based methods - significance in GEOMATICS \n",
    "#\n"
   ]
  },
  {
   "cell_type": "code",
   "execution_count": null,
   "metadata": {
    "collapsed": true
   },
   "outputs": [],
   "source": [
    "## MARKOV based methods - significance in GEOMATICS \n",
    "# https://brilliant.org/wiki/markov-chains/\n",
    "# https://en.wikipedia.org/wiki/Markov_chain\n",
    "\n",
    "# Cross refer the CRAN -- \n",
    "# https://cran.r-project.org/web/packages/markovchain/vignettes/an_introduction_to_markovchain_package.pdf\n"
   ]
  },
  {
   "cell_type": "code",
   "execution_count": null,
   "metadata": {
    "collapsed": true
   },
   "outputs": [],
   "source": []
  },
  {
   "cell_type": "code",
   "execution_count": null,
   "metadata": {
    "collapsed": true
   },
   "outputs": [],
   "source": []
  },
  {
   "cell_type": "code",
   "execution_count": null,
   "metadata": {
    "collapsed": true
   },
   "outputs": [],
   "source": []
  },
  {
   "cell_type": "code",
   "execution_count": null,
   "metadata": {
    "collapsed": true
   },
   "outputs": [],
   "source": []
  },
  {
   "cell_type": "code",
   "execution_count": null,
   "metadata": {
    "collapsed": true
   },
   "outputs": [],
   "source": []
  },
  {
   "cell_type": "code",
   "execution_count": null,
   "metadata": {
    "collapsed": true
   },
   "outputs": [],
   "source": []
  },
  {
   "cell_type": "code",
   "execution_count": null,
   "metadata": {
    "collapsed": true
   },
   "outputs": [],
   "source": []
  },
  {
   "cell_type": "code",
   "execution_count": null,
   "metadata": {
    "collapsed": true
   },
   "outputs": [],
   "source": []
  }
 ],
 "metadata": {
  "anaconda-cloud": {},
  "kernelspec": {
   "display_name": "Python [conda env:gisenv]",
   "language": "python",
   "name": "conda-env-gisenv-py"
  },
  "language_info": {
   "codemirror_mode": {
    "name": "ipython",
    "version": 3
   },
   "file_extension": ".py",
   "mimetype": "text/x-python",
   "name": "python",
   "nbconvert_exporter": "python",
   "pygments_lexer": "ipython3",
   "version": "3.4.5"
  }
 },
 "nbformat": 4,
 "nbformat_minor": 1
}
