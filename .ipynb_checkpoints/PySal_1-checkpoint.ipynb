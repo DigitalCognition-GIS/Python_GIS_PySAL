{
 "cells": [
  {
   "cell_type": "code",
   "execution_count": 1,
   "metadata": {
    "collapsed": false
   },
   "outputs": [
    {
     "name": "stdout",
     "output_type": "stream",
     "text": [
      "/home/dhankar/anaconda2/envs/gisenv/bin/python\n",
      "3.4.5 |Continuum Analytics, Inc.| (default, Jul  2 2016, 17:47:47) \n",
      "[GCC 4.4.7 20120313 (Red Hat 4.4.7-1)]\n",
      "sys.version_info(major=3, minor=4, micro=5, releaselevel='final', serial=0)\n"
     ]
    }
   ],
   "source": [
    "import sys\n",
    "print(sys.executable)\n",
    "print(sys.version)\n",
    "print(sys.version_info)"
   ]
  },
  {
   "cell_type": "code",
   "execution_count": 3,
   "metadata": {
    "collapsed": true
   },
   "outputs": [],
   "source": [
    "import pysal as ps\n",
    "#import fiona\n",
    "import numpy as np\n",
    "import pandas as pd\n",
    "import geopandas as gpd\n"
   ]
  },
  {
   "cell_type": "code",
   "execution_count": 4,
   "metadata": {
    "collapsed": false
   },
   "outputs": [
    {
     "name": "stdout",
     "output_type": "stream",
     "text": [
      "/home/dhankar/Desktop/Geo_1\r\n"
     ]
    }
   ],
   "source": [
    "!pwd "
   ]
  },
  {
   "cell_type": "code",
   "execution_count": 5,
   "metadata": {
    "collapsed": false
   },
   "outputs": [
    {
     "data": {
      "text/plain": [
       "['nyc_bikes',\n",
       " '10740',\n",
       " 'south',\n",
       " 'us_income',\n",
       " 'newHaven',\n",
       " 'Polygon',\n",
       " 'arcgis',\n",
       " 'taz',\n",
       " 'networks',\n",
       " 'londonhp',\n",
       " 'columbus',\n",
       " 'snow_maps',\n",
       " 'street_net_pts',\n",
       " 'calemp',\n",
       " 'sacramento2',\n",
       " 'georgia',\n",
       " 'stl',\n",
       " 'burkitt',\n",
       " 'geodanet',\n",
       " 'Point',\n",
       " 'Polygon_Holes',\n",
       " 'wmat',\n",
       " 'juvenile',\n",
       " 'nat',\n",
       " 'sids2',\n",
       " 'chicago',\n",
       " 'Line',\n",
       " 'book',\n",
       " 'baltim',\n",
       " 'mexico',\n",
       " 'clearwater',\n",
       " 'tokyo',\n",
       " 'desmith',\n",
       " 'virginia']"
      ]
     },
     "execution_count": 5,
     "metadata": {},
     "output_type": "execute_result"
    }
   ],
   "source": [
    "ps.examples.available()"
   ]
  },
  {
   "cell_type": "code",
   "execution_count": 6,
   "metadata": {
    "collapsed": false
   },
   "outputs": [
    {
     "data": {
      "text/plain": [
       "{'description': None, 'explanation': None, 'name': 'nyc_bikes'}"
      ]
     },
     "execution_count": 6,
     "metadata": {},
     "output_type": "execute_result"
    }
   ],
   "source": [
    "ps.examples.explain('nyc_bikes')"
   ]
  },
  {
   "cell_type": "code",
   "execution_count": 7,
   "metadata": {
    "collapsed": false
   },
   "outputs": [
    {
     "data": {
      "text/plain": [
       "{'description': None, 'explanation': None, 'name': 'tokyo'}"
      ]
     },
     "execution_count": 7,
     "metadata": {},
     "output_type": "execute_result"
    }
   ],
   "source": [
    "ps.examples.explain('tokyo')"
   ]
  },
  {
   "cell_type": "code",
   "execution_count": 8,
   "metadata": {
    "collapsed": false
   },
   "outputs": [
    {
     "data": {
      "text/plain": [
       "{'description': 'Nominal per capita income for the lower 48 US states 1929-2009',\n",
       " 'explanation': ['* states48.gal: queen contiguity weights in GAL format.',\n",
       "  '* us48.dbf: attribute data. (k=8)',\n",
       "  '* us48.shp: Polygon shapefile. (n=48)',\n",
       "  '* us48.shx: spatial index.',\n",
       "  '* usjoin.csv: 48 US states nominal per capita income time series 1929-2009.'],\n",
       " 'name': 'us_income'}"
      ]
     },
     "execution_count": 8,
     "metadata": {},
     "output_type": "execute_result"
    }
   ],
   "source": [
    "ps.examples.explain('us_income')"
   ]
  },
  {
   "cell_type": "code",
   "execution_count": 10,
   "metadata": {
    "collapsed": false
   },
   "outputs": [
    {
     "name": "stdout",
     "output_type": "stream",
     "text": [
      "<module 'pysal.examples' from '/home/dhankar/anaconda2/envs/gisenv/lib/python3.4/site-packages/pysal/examples/__init__.py'>\n",
      "                                                                                                                                                                                    \n",
      "<function get_path at 0x7f5244bd0a60>\n"
     ]
    }
   ],
   "source": [
    "print(ps.examples)\n",
    "#\n",
    "print(\"  \"*90)\n",
    "#\n",
    "print(ps.examples.get_path)"
   ]
  },
  {
   "cell_type": "code",
   "execution_count": 11,
   "metadata": {
    "collapsed": true
   },
   "outputs": [],
   "source": [
    "!cd /home/dhankar/anaconda2/envs/gisenv/lib/python3.4/site-packages/pysal/examples"
   ]
  },
  {
   "cell_type": "code",
   "execution_count": 12,
   "metadata": {
    "collapsed": false
   },
   "outputs": [
    {
     "name": "stdout",
     "output_type": "stream",
     "text": [
      "/home/dhankar/Desktop/Geo_1\r\n"
     ]
    }
   ],
   "source": [
    "!pwd "
   ]
  },
  {
   "cell_type": "code",
   "execution_count": null,
   "metadata": {
    "collapsed": true
   },
   "outputs": [],
   "source": [
    "\"\"\"\n",
    "\n",
    "(gisenv) dhankar@dhankar-VPCEB44EN:~/Desktop/Geo_1$ \n",
    "(gisenv) dhankar@dhankar-VPCEB44EN:~/Desktop/Geo_1$ pwd\n",
    "/home/dhankar/Desktop/Geo_1\n",
    "(gisenv) dhankar@dhankar-VPCEB44EN:~/Desktop/Geo_1$ \n",
    "(gisenv) dhankar@dhankar-VPCEB44EN:~/Desktop/Geo_1$ cd /home/dhankar/anaconda2/envs/gisenv/lib/python3.4/site-packages/pysal/examples\n",
    "(gisenv) dhankar@dhankar-VPCEB44EN:~/anaconda2/envs/gisenv/lib/python3.4/site-packages/pysal/examples$ ls\n",
    "10740   burkitt     columbus      georgia      londonhp  newHaven   Polygon_Holes  sids2      street_net_pts    tokyo\n",
    "arcgis  calemp      desmith       __init__.py  mexico    nyc_bikes  __pycache__    snow_maps  taz               us_income\n",
    "baltim  chicago     examples.txt  juvenile     nat       Point      README.txt     south      test_examples.py  virginia\n",
    "book    clearwater  geodanet      Line         networks  Polygon    sacramento2    stl        tmpIvIYa5.gwt     wmat\n",
    "(gisenv) dhankar@dhankar-VPCEB44EN:~/anaconda2/envs/gisenv/lib/python3.4/site-packages/pysal/examples$ \n",
    "(gisenv) dhankar@dhankar-VPCEB44EN:~/anaconda2/envs/gisenv/lib/python3.4/site-packages/pysal/examples$ cd us_income\n",
    "(gisenv) dhankar@dhankar-VPCEB44EN:~/anaconda2/envs/gisenv/lib/python3.4/site-packages/pysal/examples/us_income$ ls\n",
    "README.md  spi_download.csv  states48.gal  us48.dbf  us48.shp  us48.shx  usjoin.csv\n",
    "(gisenv) dhankar@dhankar-VPCEB44EN:~/anaconda2/envs/gisenv/lib/python3.4/site-packages/pysal/examples/us_income$ \n",
    "(gisenv) dhankar@dhankar-VPCEB44EN:~/anaconda2/envs/gisenv/lib/python3.4/site-packages/pysal/examples/us_income$ pwd\n",
    "/home/dhankar/anaconda2/envs/gisenv/lib/python3.4/site-packages/pysal/examples/us_income\n",
    "(gisenv) dhankar@dhankar-VPCEB44EN:~/anaconda2/envs/gisenv/lib/python3.4/site-packages/pysal/examples/us_income$ \n",
    "(gisenv) dhankar@dhankar-VPCEB44EN:~/anaconda2/envs/gisenv/lib/python3.4/site-packages/pysal/examples/us_income$ \n",
    "\n",
    "\n",
    "\"\"\""
   ]
  },
  {
   "cell_type": "code",
   "execution_count": 13,
   "metadata": {
    "collapsed": false
   },
   "outputs": [
    {
     "name": "stdout",
     "output_type": "stream",
     "text": [
      "CSV Local File Path___  /home/dhankar/anaconda2/envs/gisenv/lib/python3.4/site-packages/pysal/examples/us_income/usjoin.csv\n"
     ]
    }
   ],
   "source": [
    "csv_path = ps.examples.get_path('usjoin.csv')\n",
    "print(\"CSV Local File Path___ \",csv_path)"
   ]
  },
  {
   "cell_type": "code",
   "execution_count": 22,
   "metadata": {
    "collapsed": false
   },
   "outputs": [
    {
     "name": "stdout",
     "output_type": "stream",
     "text": [
      "                    \n",
      "Name\n",
      "                    \n",
      "1932\n",
      "                    \n",
      "['Name', 'STATE_FIPS', '1929', '1930', '1931', '1932', '1933', '1934', '1935', '1936', '1937', '1938', '1939', '1940', '1941', '1942', '1943', '1944', '1945', '1946', '1947', '1948', '1949', '1950', '1951', '1952', '1953', '1954', '1955', '1956', '1957', '1958', '1959', '1960', '1961', '1962', '1963', '1964', '1965', '1966', '1967', '1968', '1969', '1970', '1971', '1972', '1973', '1974', '1975', '1976', '1977', '1978', '1979', '1980', '1981', '1982', '1983', '1984', '1985', '1986', '1987', '1988', '1989', '1990', '1991', '1992', '1993', '1994', '1995', '1996', '1997', '1998', '1999', '2000', '2001', '2002', '2003', '2004', '2005', '2006', '2007', '2008', '2009']\n",
      "                    \n"
     ]
    }
   ],
   "source": [
    "f = ps.open(csv_path)\n",
    "#\n",
    "print(\"  \"*10)\n",
    "#\n",
    "print(f.header[0])\n",
    "#\n",
    "print(\"  \"*10)\n",
    "#\n",
    "print(f.header[5])\n",
    "#\n",
    "print(\"  \"*10)\n",
    "#\n",
    "print(f.header)\n",
    "#\n",
    "print(\"  \"*10)\n",
    "\n",
    "#print(type(f)) ## <class 'pysal.core.IOHandlers.csvWrapper.csvWrapper'>"
   ]
  },
  {
   "cell_type": "code",
   "execution_count": null,
   "metadata": {
    "collapsed": true
   },
   "outputs": [],
   "source": []
  },
  {
   "cell_type": "code",
   "execution_count": null,
   "metadata": {
    "collapsed": true
   },
   "outputs": [],
   "source": []
  },
  {
   "cell_type": "code",
   "execution_count": null,
   "metadata": {
    "collapsed": true
   },
   "outputs": [],
   "source": []
  },
  {
   "cell_type": "code",
   "execution_count": null,
   "metadata": {
    "collapsed": true
   },
   "outputs": [],
   "source": []
  }
 ],
 "metadata": {
  "anaconda-cloud": {},
  "kernelspec": {
   "display_name": "Python [conda env:gisenv]",
   "language": "python",
   "name": "conda-env-gisenv-py"
  },
  "language_info": {
   "codemirror_mode": {
    "name": "ipython",
    "version": 3
   },
   "file_extension": ".py",
   "mimetype": "text/x-python",
   "name": "python",
   "nbconvert_exporter": "python",
   "pygments_lexer": "ipython3",
   "version": "3.4.5"
  }
 },
 "nbformat": 4,
 "nbformat_minor": 1
}
